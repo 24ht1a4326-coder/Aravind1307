{
  "nbformat": 4,
  "nbformat_minor": 0,
  "metadata": {
    "colab": {
      "provenance": [],
      "authorship_tag": "ABX9TyMK3e8zb5a8YLT1wneEW1TL",
      "include_colab_link": true
    },
    "kernelspec": {
      "name": "python3",
      "display_name": "Python 3"
    },
    "language_info": {
      "name": "python"
    }
  },
  "cells": [
    {
      "cell_type": "markdown",
      "metadata": {
        "id": "view-in-github",
        "colab_type": "text"
      },
      "source": [
        "<a href=\"https://colab.research.google.com/github/24ht1a4326-coder/Aravind1307/blob/main/Exp3.ipynb\" target=\"_parent\"><img src=\"https://colab.research.google.com/assets/colab-badge.svg\" alt=\"Open In Colab\"/></a>"
      ]
    },
    {
      "cell_type": "markdown",
      "source": [
        "write a programme create tuples(names,age,address)for at least two mumbers and concatenate the tuples and print the concatenate tuples"
      ],
      "metadata": {
        "id": "4cM55dxXQjZs"
      }
    },
    {
      "cell_type": "code",
      "source": [
        "member1=(\"Alice\",22,\"123 maple street\",\"university of wonderland\")\n",
        "member2=(\"bob\",25,\"456 oak avenue\",\"university of wonderland\")\n",
        "concatenated_tuple=member1+member2\n",
        "print(concatenated_tuple)"
      ],
      "metadata": {
        "colab": {
          "base_uri": "https://localhost:8080/"
        },
        "id": "JOHB6kEpRXBc",
        "outputId": "8c33c118-6884-4e16-975b-e21010a4077b"
      },
      "execution_count": 3,
      "outputs": [
        {
          "output_type": "stream",
          "name": "stdout",
          "text": [
            "('Alice', 22, '123 maple street', 'university of wonderland', 'bob', 25, '456 oak avenue', 'university of wonderland')\n"
          ]
        }
      ]
    },
    {
      "cell_type": "markdown",
      "source": [
        "to count the numbers of vowels in a string (no control flow allowed)"
      ],
      "metadata": {
        "id": "NzW685RBTeR1"
      }
    },
    {
      "cell_type": "code",
      "source": [
        "string=input(\"enter a string:\")\n",
        "count=0\n",
        "string=string.lower()\n",
        "for i in string:\n",
        "  if i in \"aeiou\":\n",
        "    count+=1\n",
        "if count==0:\n",
        "  print(\"no vowels found\")\n",
        "else:\n",
        "  print('number of vowels:',count)"
      ],
      "metadata": {
        "colab": {
          "base_uri": "https://localhost:8080/"
        },
        "id": "IXXUCFW2TsmN",
        "outputId": "c7a015e1-7269-48ab-ae5b-a5a4a06b90fa"
      },
      "execution_count": 11,
      "outputs": [
        {
          "output_type": "stream",
          "name": "stdout",
          "text": [
            "enter a string:prepinsta\n",
            "number of vowels: 3\n"
          ]
        }
      ]
    },
    {
      "cell_type": "markdown",
      "source": [
        "write a programme to check if a given key exists in a dictionary or not"
      ],
      "metadata": {
        "id": "H8jWXYvEV_G2"
      }
    },
    {
      "cell_type": "code",
      "source": [
        "dictexample={'amen':110,'rajesh':440,'suraj':990}\n",
        "print(\"example1\")\n",
        "try:\n",
        "  dictexample[\"kamal\"]\n",
        "  print('the key exists in the dictionary')\n",
        "except KeyError:\n",
        "  print('the key does not exist in the dictionary')\n",
        "  print(\"example2\")\n",
        "try:\n",
        "  dictexample[\"suraj\"]\n",
        "  print('the key exists in the dictionary')\n",
        "except KeyError:\n",
        "  print('the key does not exist in the dictionary')"
      ],
      "metadata": {
        "colab": {
          "base_uri": "https://localhost:8080/"
        },
        "id": "dA8hCAsqXq5n",
        "outputId": "2e6e5470-9ea3-47a8-b82e-60559201e2d0"
      },
      "execution_count": 16,
      "outputs": [
        {
          "output_type": "stream",
          "name": "stdout",
          "text": [
            "example1\n",
            "the key does not exist in the dictionary\n",
            "example2\n",
            "the key exists in the dictionary\n"
          ]
        }
      ]
    },
    {
      "cell_type": "markdown",
      "source": [
        "write a programme to add a new key-value pair to an existing dictionary"
      ],
      "metadata": {
        "id": "PM7ct5CCauRY"
      }
    },
    {
      "cell_type": "code",
      "source": [
        "my_dict={\n",
        "    \"name\":\"alice\",\n",
        "    \"age\":\"22\",\n",
        "    \"adress\":\"123 maple street\"\n",
        "}\n",
        "print(\"original dictionary:\",my_dict)\n",
        "my_dict[\"university\"]=\"university of wonderland\"\n",
        "print(\"updated dictionary:\",my_dict)\n"
      ],
      "metadata": {
        "colab": {
          "base_uri": "https://localhost:8080/"
        },
        "id": "s5TgdYkdbAXo",
        "outputId": "4042e3ad-43ed-43af-9348-46c021e9ea9f"
      },
      "execution_count": 20,
      "outputs": [
        {
          "output_type": "stream",
          "name": "stdout",
          "text": [
            "original dictionary: {'name': 'alice', 'age': '22', 'adress': '123 maple street'}\n",
            "updated dictionary: {'name': 'alice', 'age': '22', 'adress': '123 maple street', 'university': 'university of wonderland'}\n"
          ]
        }
      ]
    },
    {
      "cell_type": "markdown",
      "source": [
        "write a programme to sum of all the items in a given dictionary"
      ],
      "metadata": {
        "id": "Hqn8OhdBctvp"
      }
    },
    {
      "cell_type": "code",
      "source": [
        "my_dict={\n",
        "    \"a\":10,\n",
        "    \"b\":20,\n",
        "    \"c\":30,\n",
        "    \"d\":40,\n",
        "}\n",
        "total=sum(my_dict.values())\n",
        "print(\"total:\",total)\n",
        "#"
      ],
      "metadata": {
        "colab": {
          "base_uri": "https://localhost:8080/"
        },
        "id": "WNjMCvcuc9_y",
        "outputId": "9a999b09-cda8-4fc3-dbec-16d4acf8329c"
      },
      "execution_count": 21,
      "outputs": [
        {
          "output_type": "stream",
          "name": "stdout",
          "text": [
            "total: 100\n"
          ]
        }
      ]
    }
  ]
}