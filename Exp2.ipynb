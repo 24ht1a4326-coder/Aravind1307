{
  "nbformat": 4,
  "nbformat_minor": 0,
  "metadata": {
    "colab": {
      "provenance": [],
      "authorship_tag": "ABX9TyNHKv8T17G7lXZffPH3rgnI",
      "include_colab_link": true
    },
    "kernelspec": {
      "name": "python3",
      "display_name": "Python 3"
    },
    "language_info": {
      "name": "python"
    }
  },
  "cells": [
    {
      "cell_type": "markdown",
      "metadata": {
        "id": "view-in-github",
        "colab_type": "text"
      },
      "source": [
        "<a href=\"https://colab.research.google.com/github/24ht1a4326-coder/Aravind1307/blob/main/Exp2.ipynb\" target=\"_parent\"><img src=\"https://colab.research.google.com/assets/colab-badge.svg\" alt=\"Open In Colab\"/></a>"
      ]
    },
    {
      "cell_type": "markdown",
      "source": [],
      "metadata": {
        "id": "bP7i6T0QO86b"
      }
    },
    {
      "cell_type": "markdown",
      "source": [
        "define a function using multiple return values"
      ],
      "metadata": {
        "id": "R4DbEL5uPc-K"
      }
    },
    {
      "cell_type": "code",
      "source": [
        "def name():\n",
        "  return \"jhon\",\"amen\"\n",
        "\n",
        "print(name())\n",
        "name1,name2 = name()\n",
        "print(name1,name2)"
      ],
      "metadata": {
        "colab": {
          "base_uri": "https://localhost:8080/"
        },
        "id": "pkDgVsXmPl4T",
        "outputId": "01867dc2-d5dc-4f60-b2f3-3c4d3e501a3e"
      },
      "execution_count": null,
      "outputs": [
        {
          "output_type": "stream",
          "name": "stdout",
          "text": [
            "('jhon', 'amen')\n",
            "jhon amen\n"
          ]
        }
      ]
    },
    {
      "cell_type": "markdown",
      "source": [
        "define function using deafuly arguments"
      ],
      "metadata": {
        "id": "kLQ5UKP6Q9oE"
      }
    },
    {
      "cell_type": "code",
      "source": [
        "def student(firstname, lastname='mark', standard=\"fifth\"):\n",
        "  print(firstname, lastname, 'in standard', standard)\n",
        "\n",
        "# 1 keyword argument\n",
        "student(firstname='jhon')\n",
        "\n",
        "# 2 keyword arguments\n",
        "student(firstname='jhon', standard='seventh')\n",
        "\n",
        "# 2 keyword arguments\n",
        "student(lastname='gates', firstname='jhon')"
      ],
      "metadata": {
        "colab": {
          "base_uri": "https://localhost:8080/"
        },
        "id": "MRkb9vVZRHOr",
        "outputId": "a51308c4-e4a7-4897-ab4e-1297b14cdd6e"
      },
      "execution_count": null,
      "outputs": [
        {
          "output_type": "stream",
          "name": "stdout",
          "text": [
            "jhon mark in standard fifth\n",
            "jhon mark in standard seventh\n",
            "jhon gates in standard fifth\n"
          ]
        }
      ]
    },
    {
      "cell_type": "markdown",
      "source": [
        "find the length of string without using any library functions"
      ],
      "metadata": {
        "id": "DHM-e-qgTrgM"
      }
    },
    {
      "cell_type": "code",
      "source": [
        "string=input(\"enter the string.\")\n",
        "count=0\n",
        "for i in string:\n",
        "  count=count+1\n",
        "print(\"length of the string is.\", count)"
      ],
      "metadata": {
        "colab": {
          "base_uri": "https://localhost:8080/"
        },
        "id": "d1PdSy-kWPyO",
        "outputId": "b18b5e54-49ef-4f8f-f76a-8f26b42c01ae"
      },
      "execution_count": null,
      "outputs": [
        {
          "output_type": "stream",
          "name": "stdout",
          "text": [
            "enter the string.1\n",
            "length of the string is. 1\n"
          ]
        }
      ]
    },
    {
      "cell_type": "markdown",
      "source": [
        "write a program to check if the substring is present in a given string or not"
      ],
      "metadata": {
        "id": "46noi4L-Xa7O"
      }
    },
    {
      "cell_type": "code",
      "source": [
        "string=input(\"enter the string.\")\n",
        "sub_string=input(\"enter word.\")\n",
        "\n",
        "if sub_string in string:\n",
        "  print(\"substring is present in the string.\")\n",
        "else:\n",
        "  print(\"substring is not present in the string.\")"
      ],
      "metadata": {
        "colab": {
          "base_uri": "https://localhost:8080/"
        },
        "id": "5u6X2g5uX46n",
        "outputId": "280e8d45-aa17-4042-e7d8-ac757097fb96"
      },
      "execution_count": null,
      "outputs": [
        {
          "output_type": "stream",
          "name": "stdout",
          "text": [
            "enter the string.hello world\n",
            "enter word.word:world\n",
            "substring is not present in the string.\n"
          ]
        }
      ]
    },
    {
      "cell_type": "markdown",
      "source": [
        "write a program to perform the given operations on a list"
      ],
      "metadata": {
        "id": "b5tT4PG3YyFf"
      }
    },
    {
      "cell_type": "markdown",
      "source": [
        "Addition"
      ],
      "metadata": {
        "id": "hVUKoam1Zt1P"
      }
    },
    {
      "cell_type": "code",
      "source": [
        "test_list = [1, 3, 4, 6, 8]\n",
        "test_list2 = test_list + [10]\n",
        "print(\"orginal list 1:\", test_list)\n",
        "print(\"list after addition:\", test_list2)"
      ],
      "metadata": {
        "colab": {
          "base_uri": "https://localhost:8080/"
        },
        "id": "oVfoXtNfZv7P",
        "outputId": "392a1ea1-e925-4539-ac20-2a72167535f9"
      },
      "execution_count": null,
      "outputs": [
        {
          "output_type": "stream",
          "name": "stdout",
          "text": [
            "orginal list 1: [1, 3, 4, 6, 8]\n",
            "list after addition: [1, 3, 4, 6, 8, 10]\n"
          ]
        }
      ]
    },
    {
      "cell_type": "markdown",
      "source": [
        "insertion"
      ],
      "metadata": {
        "id": "1H7O875Ibu7Q"
      }
    },
    {
      "cell_type": "code",
      "source": [
        "score=[43,45,99,76]\n",
        "score.insert(2,45)\n",
        "print(score)"
      ],
      "metadata": {
        "colab": {
          "base_uri": "https://localhost:8080/"
        },
        "id": "zlEaDMx3bxNY",
        "outputId": "d04b15ab-0062-4024-ce1c-b96344915350"
      },
      "execution_count": null,
      "outputs": [
        {
          "output_type": "stream",
          "name": "stdout",
          "text": [
            "[43, 45, 45, 99, 76]\n"
          ]
        }
      ]
    },
    {
      "cell_type": "markdown",
      "source": [
        "slicing"
      ],
      "metadata": {
        "id": "IBDZIL3YcGmQ"
      }
    },
    {
      "cell_type": "code",
      "source": [
        "#intialize list\n",
        "list=[1,2,3,4,5,6,7,8,9]\n",
        "#show orginal list\n",
        "print(\"orginal list:\\n\",list)\n",
        "print(\"\\nsliced lists.\")\n"
      ],
      "metadata": {
        "colab": {
          "base_uri": "https://localhost:8080/"
        },
        "id": "f941CNYpcJjI",
        "outputId": "68740800-9449-49c4-94fa-ff12d306fa2a"
      },
      "execution_count": null,
      "outputs": [
        {
          "output_type": "stream",
          "name": "stdout",
          "text": [
            "orginal list:\n",
            " [1, 2, 3, 4, 5, 6, 7, 8, 9]\n",
            "\n",
            "sliced lists.\n"
          ]
        }
      ]
    },
    {
      "cell_type": "markdown",
      "source": [
        "perform any 5 built in functions by taking any list"
      ],
      "metadata": {
        "id": "t1uK4mNhdk3Z"
      }
    },
    {
      "cell_type": "code",
      "source": [
        "#An integrer\n",
        "var =-94\n",
        "print('absolut value of integer is:',abs(var))"
      ],
      "metadata": {
        "colab": {
          "base_uri": "https://localhost:8080/"
        },
        "id": "LM8M0B7Xd0_B",
        "outputId": "35ec5508-b1ae-46e8-871d-11dd538e0b71"
      },
      "execution_count": null,
      "outputs": [
        {
          "output_type": "stream",
          "name": "stdout",
          "text": [
            "absolut value of integer is: 94\n"
          ]
        }
      ]
    },
    {
      "cell_type": "code",
      "source": [
        "#all value true\n",
        "k=[1,3,4,6]\n",
        "print(all(k))\n",
        "#all values false\n",
        "k=[0,False]\n",
        "print(all(k))\n",
        "#one false value\n",
        "k=[1,3,7,0]\n",
        "print(all(k))\n",
        "#one true value\n",
        "k=[0,False,5]\n",
        "print(all(k))\n",
        "#empty literable\n",
        "k=[]\n",
        "print(all(k))"
      ],
      "metadata": {
        "colab": {
          "base_uri": "https://localhost:8080/"
        },
        "id": "G7HfqucJepUp",
        "outputId": "1a1e233e-4be6-479f-c1e6-c447b009467a"
      },
      "execution_count": null,
      "outputs": [
        {
          "output_type": "stream",
          "name": "stdout",
          "text": [
            "True\n",
            "False\n",
            "False\n",
            "False\n",
            "True\n"
          ]
        }
      ]
    },
    {
      "cell_type": "code",
      "source": [
        "x=10\n",
        "y=bin(x)\n",
        "print(y)\n"
      ],
      "metadata": {
        "colab": {
          "base_uri": "https://localhost:8080/"
        },
        "id": "Bdl2kP_uf0o6",
        "outputId": "043d2806-255a-4c57-b6e8-6a65b9647d91"
      },
      "execution_count": null,
      "outputs": [
        {
          "output_type": "stream",
          "name": "stdout",
          "text": [
            "0b1010\n"
          ]
        }
      ]
    },
    {
      "cell_type": "code",
      "source": [
        "string=\"hello world.\"\n",
        "array=bytes(string,'utf-8')\n",
        "print(array)"
      ],
      "metadata": {
        "colab": {
          "base_uri": "https://localhost:8080/"
        },
        "id": "IK-dv8cmf_mC",
        "outputId": "52810c0b-512a-40c5-e028-ba8b4a994f36"
      },
      "execution_count": null,
      "outputs": [
        {
          "output_type": "stream",
          "name": "stdout",
          "text": [
            "b'hello world.'\n"
          ]
        }
      ]
    },
    {
      "cell_type": "code",
      "source": [
        "s=sum([1,2,4])\n",
        "print(s)\n",
        "s=sum([1,2,4],10)\n",
        "print(s)"
      ],
      "metadata": {
        "colab": {
          "base_uri": "https://localhost:8080/"
        },
        "id": "LtsSW-aqgkKD",
        "outputId": "acd606f6-cc80-492c-baba-6bad6777c0e0"
      },
      "execution_count": null,
      "outputs": [
        {
          "output_type": "stream",
          "name": "stdout",
          "text": [
            "7\n",
            "17\n"
          ]
        }
      ]
    }
  ]
}