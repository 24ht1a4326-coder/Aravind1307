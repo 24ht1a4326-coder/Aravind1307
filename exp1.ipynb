{
  "nbformat": 4,
  "nbformat_minor": 0,
  "metadata": {
    "colab": {
      "provenance": [],
      "authorship_tag": "ABX9TyMAjA5C6pzMZSC4ss+h0/bs",
      "include_colab_link": true
    },
    "kernelspec": {
      "name": "python3",
      "display_name": "Python 3"
    },
    "language_info": {
      "name": "python"
    }
  },
  "cells": [
    {
      "cell_type": "markdown",
      "metadata": {
        "id": "view-in-github",
        "colab_type": "text"
      },
      "source": [
        "<a href=\"https://colab.research.google.com/github/24ht1a4326-coder/Aravind1307/blob/main/exp1.ipynb\" target=\"_parent\"><img src=\"https://colab.research.google.com/assets/colab-badge.svg\" alt=\"Open In Colab\"/></a>"
      ]
    },
    {
      "cell_type": "markdown",
      "source": [],
      "metadata": {
        "id": "sWzjRMxTd_U5"
      }
    },
    {
      "cell_type": "markdown",
      "source": [
        "# New Section"
      ],
      "metadata": {
        "id": "44MnzjmGksKb"
      }
    },
    {
      "cell_type": "markdown",
      "source": [
        "addition of two numbers"
      ],
      "metadata": {
        "id": "Adn5TUSFOWAc"
      }
    },
    {
      "cell_type": "code",
      "execution_count": null,
      "metadata": {
        "colab": {
          "base_uri": "https://localhost:8080/"
        },
        "id": "6AAine6FN-pu",
        "outputId": "800e82db-f111-40f1-cff0-1963624834df"
      },
      "outputs": [
        {
          "output_type": "stream",
          "name": "stdout",
          "text": [
            "addition is 25\n"
          ]
        }
      ],
      "source": [
        "a=10\n",
        "b=15\n",
        "c=a+b\n",
        "print(\"addition is\", c)"
      ]
    },
    {
      "cell_type": "markdown",
      "source": [
        "largest of three numbers\n"
      ],
      "metadata": {
        "id": "LmTbasU4OvIM"
      }
    },
    {
      "cell_type": "code",
      "source": [
        "a = 10\n",
        "b = 14\n",
        "c = 12\n",
        "if (a >= b) and (a >= c):\n",
        "   largest = a\n",
        "elif (b >= a) and (b >= c):\n",
        "   largest = b\n",
        "else:\n",
        "   largest = c\n",
        "\n",
        "print(\"The largest number is\", largest)"
      ],
      "metadata": {
        "id": "2XG8xT5IOykE",
        "colab": {
          "base_uri": "https://localhost:8080/"
        },
        "outputId": "14fc1203-4eb6-4ed1-fbf2-1513eaeb66a6"
      },
      "execution_count": null,
      "outputs": [
        {
          "output_type": "stream",
          "name": "stdout",
          "text": [
            "The largest number is 14\n"
          ]
        }
      ]
    },
    {
      "cell_type": "markdown",
      "source": [
        "swapping of two mumbers"
      ],
      "metadata": {
        "id": "xCyiLtZBTL4d"
      }
    },
    {
      "cell_type": "code",
      "source": [
        "x=5\n",
        "y=7\n",
        "print(\"before swapping:\")\n",
        "print(\"value of x:\", x)\n",
        "print(\"value of y:\", y)\n",
        "x,y=y,x\n",
        "print(\"after swapping:\")\n",
        "print(\"value of x:\", x)\n",
        "print(\"value of y:\", y)"
      ],
      "metadata": {
        "colab": {
          "base_uri": "https://localhost:8080/"
        },
        "id": "RkwjaN8jTWDt",
        "outputId": "3575c25d-6a1a-446f-a887-34b3a80178d5"
      },
      "execution_count": null,
      "outputs": [
        {
          "output_type": "stream",
          "name": "stdout",
          "text": [
            "before swapping:\n",
            "value of x: 5\n",
            "value of y: 7\n",
            "after swapping:\n",
            "value of x: 7\n",
            "value of y: 5\n"
          ]
        }
      ]
    },
    {
      "cell_type": "markdown",
      "source": [
        "prime with an intervel"
      ],
      "metadata": {
        "id": "aLnkuPScVApV"
      }
    },
    {
      "cell_type": "code",
      "source": [
        "lower=900\n",
        "upper=1000\n",
        "print(\"prime number between\", lower, \"and\",upper,\"are:\")\n",
        "for num in range (lower,upper+1):\n",
        "  if num>1:\n",
        "    for i in range (2,num):\n",
        "      if(num%i)==0:\n",
        "        break\n",
        "    else:\n",
        "      print(num)"
      ],
      "metadata": {
        "colab": {
          "base_uri": "https://localhost:8080/"
        },
        "id": "VWnZ02geVKiW",
        "outputId": "ce9c5bc0-6023-4e4b-9f39-c428c328c28b"
      },
      "execution_count": null,
      "outputs": [
        {
          "output_type": "stream",
          "name": "stdout",
          "text": [
            "prime number between 900 and 1000 are:\n",
            "907\n",
            "911\n",
            "919\n",
            "929\n",
            "937\n",
            "941\n",
            "947\n",
            "953\n",
            "967\n",
            "971\n",
            "977\n",
            "983\n",
            "991\n",
            "997\n"
          ]
        }
      ]
    },
    {
      "cell_type": "markdown",
      "source": [
        "add and multiply complex  numbers"
      ],
      "metadata": {
        "id": "ZIDFXtW7YkK3"
      }
    },
    {
      "cell_type": "code",
      "source": [
        "def addComplex(z1, z2):\n",
        "    return z1 + z2\n",
        "\n",
        "def mulComplex(z1, z2):\n",
        "    return z1 * z2\n",
        "\n",
        "z1 = complex(2, 3)\n",
        "z2 = complex(1, 2)\n",
        "\n",
        "print(\"Addition is :\", addComplex(z1, z2))\n",
        "print(\"Multiplication is :\", mulComplex(z1, z2))"
      ],
      "metadata": {
        "colab": {
          "base_uri": "https://localhost:8080/"
        },
        "id": "66zG2r-2Yx0G",
        "outputId": "2ccf2639-1be2-41d5-ff30-6bdee61983b7"
      },
      "execution_count": null,
      "outputs": [
        {
          "output_type": "stream",
          "name": "stdout",
          "text": [
            "Addition is : (3+5j)\n",
            "Multiplication is : (-4+7j)\n"
          ]
        }
      ]
    },
    {
      "cell_type": "markdown",
      "source": [
        "multiplication table of number"
      ],
      "metadata": {
        "id": "8BYBWPZmZ8Cn"
      }
    },
    {
      "cell_type": "code",
      "source": [
        "num=12\n",
        "for i in range (1,11):\n",
        "  print(num,'x',i,'=',num*i)"
      ],
      "metadata": {
        "colab": {
          "base_uri": "https://localhost:8080/"
        },
        "id": "ldIgMcuqaEWH",
        "outputId": "122b42f3-0f53-44fa-9856-e8f6c06eaa17"
      },
      "execution_count": null,
      "outputs": [
        {
          "output_type": "stream",
          "name": "stdout",
          "text": [
            "12 x 1 = 12\n",
            "12 x 2 = 24\n",
            "12 x 3 = 36\n",
            "12 x 4 = 48\n",
            "12 x 5 = 60\n",
            "12 x 6 = 72\n",
            "12 x 7 = 84\n",
            "12 x 8 = 96\n",
            "12 x 9 = 108\n",
            "12 x 10 = 120\n"
          ]
        }
      ]
    },
    {
      "cell_type": "markdown",
      "source": [],
      "metadata": {
        "id": "2reGrlTrU52u"
      }
    }
  ]
}